{
 "cells": [
  {
   "cell_type": "code",
   "execution_count": null,
   "metadata": {},
   "outputs": [],
   "source": [
    "# read data set all\n",
    "# x_train adalah komentar dataset all\n",
    "# x_test adalah sentimen datraset all\n",
    "# y_train adalah komentar dataset uji\n",
    "# y_test adalah sentimen yang dicari \n"
   ]
  },
  {
   "cell_type": "code",
   "execution_count": null,
   "metadata": {},
   "outputs": [],
   "source": [
    "from sklearn.neighbors import KNeighborsClassifier"
   ]
  },
  {
   "cell_type": "code",
   "execution_count": null,
   "metadata": {},
   "outputs": [],
   "source": [
    "model = KNeighborsClassifier()"
   ]
  },
  {
   "cell_type": "code",
   "execution_count": null,
   "metadata": {},
   "outputs": [],
   "source": [
    "# SMOTE\n",
    "# !pip install imblearn\n",
    "\n",
    "from imblearn.over_sampling import SMOTE"
   ]
  },
  {
   "cell_type": "code",
   "execution_count": null,
   "metadata": {},
   "outputs": [],
   "source": [
    "\n",
    "X = data_latih.drop('label', axis=1)\n",
    "y = data_latih['label']\n",
    "\n",
    "sm = SMOTE(random_state=2)\n",
    "X_res, y_res = sm.fit_resample(X, y)"
   ]
  },
  {
   "cell_type": "code",
   "execution_count": null,
   "metadata": {},
   "outputs": [],
   "source": [
    "X_train, X_test = X_res.iloc[train_index], X_res.iloc[test_index]"
   ]
  },
  {
   "cell_type": "code",
   "execution_count": null,
   "metadata": {},
   "outputs": [],
   "source": [
    "model.fit(X_train, y_train)\n",
    "    y_pred = model.predict(X_test)"
   ]
  },
  {
   "cell_type": "code",
   "execution_count": null,
   "metadata": {},
   "outputs": [],
   "source": [
    "import matplotlib.pyplot as plt\n",
    "from wordcloud import WordCloud"
   ]
  },
  {
   "cell_type": "code",
   "execution_count": null,
   "metadata": {},
   "outputs": [],
   "source": [
    "dataCleaning = pd.read_csv('./output/data-clean-ind-test.csv')\n",
    "\n",
    "positive_text = ' '.join(dataCleaning[dataCleaning[' label '] == 'POSITIF']['resultStemming'])\n",
    "negative_text = ' '.join(dataCleaning[dataCleaning[' label '] == 'NEGATIF']['resultStemming'])\n",
    "\n",
    "# Hapus tanda '\n",
    "positive_text = positive_text.replace(\"'\", \"\")\n",
    "negative_text = negative_text.replace(\"'\", \"\")\n",
    "\n",
    "positive_wordcloud = WordCloud(width=800, height=400).generate(positive_text)\n",
    "negative_wordcloud = WordCloud(width=800, height=400).generate(negative_text)\n",
    "\n",
    "plt.figure(figsize=(10, 5))\n",
    "plt.imshow(positive_wordcloud, interpolation='bilinear')\n",
    "plt.title('Wordcloud POSITIF')\n",
    "plt.axis('off')\n",
    "plt.show()\n",
    "\n",
    "plt.figure(figsize=(10, 5))\n",
    "plt.imshow(negative_wordcloud, interpolation='bilinear')\n",
    "plt.title('Wordcloud NEGATIF')\n",
    "plt.axis('off')\n",
    "plt.show()\n"
   ]
  }
 ],
 "metadata": {
  "language_info": {
   "name": "python"
  }
 },
 "nbformat": 4,
 "nbformat_minor": 2
}
