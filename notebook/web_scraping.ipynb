{
 "cells": [
  {
   "cell_type": "code",
   "execution_count": 1,
   "metadata": {},
   "outputs": [],
   "source": [
    "import csv\n",
    "import time\n",
    "from selenium import webdriver\n",
    "from selenium.webdriver.common.by import By\n",
    "from selenium.webdriver.chrome.service import Service\n",
    "from selenium.webdriver.support.ui import WebDriverWait\n",
    "from selenium.webdriver.support import expected_conditions as EC"
   ]
  },
  {
   "cell_type": "code",
   "execution_count": 2,
   "metadata": {},
   "outputs": [
    {
     "ename": "KeyboardInterrupt",
     "evalue": "",
     "output_type": "error",
     "traceback": [
      "\u001b[1;31m---------------------------------------------------------------------------\u001b[0m",
      "\u001b[1;31mKeyboardInterrupt\u001b[0m                         Traceback (most recent call last)",
      "Cell \u001b[1;32mIn[2], line 35\u001b[0m\n\u001b[0;32m     32\u001b[0m     \u001b[38;5;28mprint\u001b[39m(\u001b[38;5;124m\"\u001b[39m\u001b[38;5;124mTidak ada komentar baru yang dimuat setelah scroll:\u001b[39m\u001b[38;5;124m\"\u001b[39m, e)\n\u001b[0;32m     33\u001b[0m     \u001b[38;5;28;01mbreak\u001b[39;00m\n\u001b[1;32m---> 35\u001b[0m \u001b[43mtime\u001b[49m\u001b[38;5;241;43m.\u001b[39;49m\u001b[43msleep\u001b[49m\u001b[43m(\u001b[49m\u001b[38;5;241;43m5\u001b[39;49m\u001b[43m)\u001b[49m\n\u001b[0;32m     37\u001b[0m \u001b[38;5;28;01mtry\u001b[39;00m:\n\u001b[0;32m     38\u001b[0m     comments \u001b[38;5;241m=\u001b[39m driver\u001b[38;5;241m.\u001b[39mfind_elements(By\u001b[38;5;241m.\u001b[39mCSS_SELECTOR, \u001b[38;5;124m'\u001b[39m\u001b[38;5;124m#content.style-scope.ytd-expander\u001b[39m\u001b[38;5;124m'\u001b[39m)\n",
      "\u001b[1;31mKeyboardInterrupt\u001b[0m: "
     ]
    }
   ],
   "source": [
    "service = Service('C:\\\\AnacondaProjects\\\\knn-sentiment-analysis\\\\driver\\\\chromedriver.exe')\n",
    "options = webdriver.ChromeOptions()\n",
    "driver = webdriver.Chrome(service=service, options=options)\n",
    "url = 'https://www.youtube.com/watch?v=t2kY2T49Gnk'\n",
    "\n",
    "driver.get(url)\n",
    "\n",
    "input(\"Lakukan scroll manual untuk memancing komentar ter-render. Tekan Enter jika sudah selesai...\")\n",
    "\n",
    "final_comment_list = []\n",
    "\n",
    "output_file = '../dataset/bismillah12.csv'\n",
    "\n",
    "# Buka output file\n",
    "with open(output_file, 'w', newline='', encoding='utf-8') as csvfile:\n",
    "\n",
    "    writer = csv.writer(csvfile)\n",
    "\n",
    "    writer.writerow(['Comment'])\n",
    "\n",
    "    last_height = driver.execute_script(\"return document.documentElement.scrollHeight\")\n",
    "\n",
    "    while True:\n",
    "        # Scroll ke bawah\n",
    "        driver.execute_script(\"window.scrollTo(0, document.documentElement.scrollHeight);\")\n",
    "\n",
    "        try:\n",
    "            WebDriverWait(driver, 10).until(\n",
    "                EC.presence_of_element_located((By.CSS_SELECTOR, '#content.style-scope.ytd-expander'))\n",
    "            )\n",
    "        except Exception as e:\n",
    "            print(\"Tidak ada komentar baru yang dimuat setelah scroll:\", e)\n",
    "            break\n",
    "\n",
    "        time.sleep(5)\n",
    "\n",
    "        try:\n",
    "            comments = driver.find_elements(By.CSS_SELECTOR, '#content.style-scope.ytd-expander')\n",
    "            comment_list = [x.text for x in comments]\n",
    "        except:\n",
    "            print(f\"Tidak dapat menemukan komentar untuk video {url}\")\n",
    "            comment_list = []\n",
    "\n",
    "        # Tulis data\n",
    "        for comment in comment_list:\n",
    "            writer.writerow([comment])\n",
    "\n",
    "        # Hitung tinggi scroll baru dan bandingkan dengan tinggi scroll terakhir\n",
    "        new_height = driver.execute_script(\"return document.documentElement.scrollHeight\")\n",
    "        if new_height == last_height:\n",
    "            break\n",
    "        last_height = new_height\n",
    "\n",
    "driver.quit()"
   ]
  }
 ],
 "metadata": {
  "kernelspec": {
   "display_name": "Python 3",
   "language": "python",
   "name": "python3"
  },
  "language_info": {
   "codemirror_mode": {
    "name": "ipython",
    "version": 3
   },
   "file_extension": ".py",
   "mimetype": "text/x-python",
   "name": "python",
   "nbconvert_exporter": "python",
   "pygments_lexer": "ipython3",
   "version": "3.12.3"
  }
 },
 "nbformat": 4,
 "nbformat_minor": 2
}
