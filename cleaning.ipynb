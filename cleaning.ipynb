{
 "cells": [
  {
   "cell_type": "markdown",
   "metadata": {},
   "source": [
    "### Open .csv file"
   ]
  },
  {
   "cell_type": "code",
   "execution_count": 1,
   "metadata": {},
   "outputs": [],
   "source": [
    "import pandas as pd"
   ]
  },
  {
   "cell_type": "code",
   "execution_count": 55,
   "metadata": {},
   "outputs": [
    {
     "data": {
      "text/html": [
       "<div>\n",
       "<style scoped>\n",
       "    .dataframe tbody tr th:only-of-type {\n",
       "        vertical-align: middle;\n",
       "    }\n",
       "\n",
       "    .dataframe tbody tr th {\n",
       "        vertical-align: top;\n",
       "    }\n",
       "\n",
       "    .dataframe thead th {\n",
       "        text-align: right;\n",
       "    }\n",
       "</style>\n",
       "<table border=\"1\" class=\"dataframe\">\n",
       "  <thead>\n",
       "    <tr style=\"text-align: right;\">\n",
       "      <th></th>\n",
       "      <th>Comment</th>\n",
       "    </tr>\n",
       "  </thead>\n",
       "  <tbody>\n",
       "    <tr>\n",
       "      <th>0</th>\n",
       "      <td>Buat kawan-kawan yang masih agak bingung atau ...</td>\n",
       "    </tr>\n",
       "    <tr>\n",
       "      <th>1</th>\n",
       "      <td>terimakasih penjelasannya. sangat membantu</td>\n",
       "    </tr>\n",
       "    <tr>\n",
       "      <th>2</th>\n",
       "      <td>Jelas</td>\n",
       "    </tr>\n",
       "    <tr>\n",
       "      <th>3</th>\n",
       "      <td>TOLONG DI PIN</td>\n",
       "    </tr>\n",
       "    <tr>\n",
       "      <th>4</th>\n",
       "      <td>Ralat bang poin ke 4 chat gpt itu fine tuning ...</td>\n",
       "    </tr>\n",
       "    <tr>\n",
       "      <th>...</th>\n",
       "      <td>...</td>\n",
       "    </tr>\n",
       "    <tr>\n",
       "      <th>1244</th>\n",
       "      <td>Dr indra bsa ngoding ga ?</td>\n",
       "    </tr>\n",
       "    <tr>\n",
       "      <th>1245</th>\n",
       "      <td>t</td>\n",
       "    </tr>\n",
       "    <tr>\n",
       "      <th>1246</th>\n",
       "      <td>2015</td>\n",
       "    </tr>\n",
       "    <tr>\n",
       "      <th>1247</th>\n",
       "      <td>Pohara</td>\n",
       "    </tr>\n",
       "    <tr>\n",
       "      <th>1248</th>\n",
       "      <td>Dahsyat</td>\n",
       "    </tr>\n",
       "  </tbody>\n",
       "</table>\n",
       "<p>1249 rows × 1 columns</p>\n",
       "</div>"
      ],
      "text/plain": [
       "                                                Comment\n",
       "0     Buat kawan-kawan yang masih agak bingung atau ...\n",
       "1            terimakasih penjelasannya. sangat membantu\n",
       "2                                                 Jelas\n",
       "3                                         TOLONG DI PIN\n",
       "4     Ralat bang poin ke 4 chat gpt itu fine tuning ...\n",
       "...                                                 ...\n",
       "1244                          Dr indra bsa ngoding ga ?\n",
       "1245                                                  t\n",
       "1246                                               2015\n",
       "1247                                             Pohara\n",
       "1248                                            Dahsyat\n",
       "\n",
       "[1249 rows x 1 columns]"
      ]
     },
     "execution_count": 55,
     "metadata": {},
     "output_type": "execute_result"
    }
   ],
   "source": [
    "df = pd.read_csv('./dataset/data-uji.csv', sep=';', encoding='utf-8')\n",
    "df"
   ]
  },
  {
   "cell_type": "code",
   "execution_count": null,
   "metadata": {},
   "outputs": [],
   "source": [
    "# 'ind' or 'en'\n",
    "LANGUAGE='ind'"
   ]
  },
  {
   "cell_type": "markdown",
   "metadata": {},
   "source": [
    "### Cleaning"
   ]
  },
  {
   "cell_type": "code",
   "execution_count": 12,
   "metadata": {},
   "outputs": [],
   "source": [
    "import re\n",
    "import os"
   ]
  },
  {
   "cell_type": "code",
   "execution_count": 41,
   "metadata": {},
   "outputs": [],
   "source": [
    "def cleanComment(comment, language):\n",
    "    try:\n",
    "        comment = re.sub(r'@\\w+|[^\\w\\s]', '', comment)\n",
    "        comment = re.sub(r'\\d+', '', comment)\n",
    "       \n",
    "        slang_dict = {}\n",
    "        filename = f'slang-{language}.txt'\n",
    "        if os.path.exists(filename) and os.path.getsize(filename) > 0:\n",
    "            with open(filename, 'r') as f:\n",
    "                for line in f:\n",
    "                    slang, formal = line.strip().split(',')\n",
    "                    slang_dict[slang] = formal\n",
    "\n",
    "        words = comment.split()\n",
    "        for i in range(len(words)):\n",
    "            if words[i] in slang_dict:\n",
    "                words[i] = slang_dict[words[i]]\n",
    "        comment = ' '.join(words)\n",
    "\n",
    "    except:\n",
    "        comment = ''\n",
    "        print(\"Err: Failed to clean comments\")\n",
    "    return comment.strip()\n"
   ]
  },
  {
   "cell_type": "code",
   "execution_count": 46,
   "metadata": {},
   "outputs": [
    {
     "data": {
      "text/html": [
       "<div>\n",
       "<style scoped>\n",
       "    .dataframe tbody tr th:only-of-type {\n",
       "        vertical-align: middle;\n",
       "    }\n",
       "\n",
       "    .dataframe tbody tr th {\n",
       "        vertical-align: top;\n",
       "    }\n",
       "\n",
       "    .dataframe thead th {\n",
       "        text-align: right;\n",
       "    }\n",
       "</style>\n",
       "<table border=\"1\" class=\"dataframe\">\n",
       "  <thead>\n",
       "    <tr style=\"text-align: right;\">\n",
       "      <th></th>\n",
       "      <th>Comment</th>\n",
       "      <th>cleanComment</th>\n",
       "      <th>resultCaseFolding</th>\n",
       "      <th>resultTokenize</th>\n",
       "    </tr>\n",
       "  </thead>\n",
       "  <tbody>\n",
       "    <tr>\n",
       "      <th>0</th>\n",
       "      <td>Buat kawan-kawan yang masih agak bingung atau ...</td>\n",
       "      <td>Buat kawankawan yang masih agak bingung atau a...</td>\n",
       "      <td>buat kawankawan yang masih agak bingung atau a...</td>\n",
       "      <td>[buat, kawankawan, yang, masih, agak, bingung,...</td>\n",
       "    </tr>\n",
       "    <tr>\n",
       "      <th>1</th>\n",
       "      <td>terimakasih penjelasannya. sangat membantu</td>\n",
       "      <td>terimakasih penjelasannya sangat membantu</td>\n",
       "      <td>terimakasih penjelasannya sangat membantu</td>\n",
       "      <td>[terimakasih, penjelasannya, sangat, membantu]</td>\n",
       "    </tr>\n",
       "    <tr>\n",
       "      <th>2</th>\n",
       "      <td>Jelas</td>\n",
       "      <td>Jelas</td>\n",
       "      <td>jelas</td>\n",
       "      <td>[jelas]</td>\n",
       "    </tr>\n",
       "    <tr>\n",
       "      <th>3</th>\n",
       "      <td>TOLONG DI PIN</td>\n",
       "      <td>TOLONG DI PIN</td>\n",
       "      <td>tolong di pin</td>\n",
       "      <td>[tolong, di, pin]</td>\n",
       "    </tr>\n",
       "    <tr>\n",
       "      <th>4</th>\n",
       "      <td>Ralat bang poin ke 4 chat gpt itu fine tuning ...</td>\n",
       "      <td>Ralat bang poin ke chat gpt itu fine tuning su...</td>\n",
       "      <td>ralat bang poin ke chat gpt itu fine tuning su...</td>\n",
       "      <td>[ralat, bang, poin, ke, chat, gpt, itu, fine, ...</td>\n",
       "    </tr>\n",
       "  </tbody>\n",
       "</table>\n",
       "</div>"
      ],
      "text/plain": [
       "                                             Comment  \\\n",
       "0  Buat kawan-kawan yang masih agak bingung atau ...   \n",
       "1         terimakasih penjelasannya. sangat membantu   \n",
       "2                                              Jelas   \n",
       "3                                      TOLONG DI PIN   \n",
       "4  Ralat bang poin ke 4 chat gpt itu fine tuning ...   \n",
       "\n",
       "                                        cleanComment  \\\n",
       "0  Buat kawankawan yang masih agak bingung atau a...   \n",
       "1          terimakasih penjelasannya sangat membantu   \n",
       "2                                              Jelas   \n",
       "3                                      TOLONG DI PIN   \n",
       "4  Ralat bang poin ke chat gpt itu fine tuning su...   \n",
       "\n",
       "                                   resultCaseFolding  \\\n",
       "0  buat kawankawan yang masih agak bingung atau a...   \n",
       "1          terimakasih penjelasannya sangat membantu   \n",
       "2                                              jelas   \n",
       "3                                      tolong di pin   \n",
       "4  ralat bang poin ke chat gpt itu fine tuning su...   \n",
       "\n",
       "                                      resultTokenize  \n",
       "0  [buat, kawankawan, yang, masih, agak, bingung,...  \n",
       "1     [terimakasih, penjelasannya, sangat, membantu]  \n",
       "2                                            [jelas]  \n",
       "3                                  [tolong, di, pin]  \n",
       "4  [ralat, bang, poin, ke, chat, gpt, itu, fine, ...  "
      ]
     },
     "execution_count": 46,
     "metadata": {},
     "output_type": "execute_result"
    }
   ],
   "source": [
    "df['cleanComment'] = df['Comment'].apply(lambda x: cleanComment(x, LANGUAGE))\n",
    "df.head()"
   ]
  },
  {
   "cell_type": "markdown",
   "metadata": {},
   "source": [
    "### Case folding"
   ]
  },
  {
   "cell_type": "code",
   "execution_count": 17,
   "metadata": {},
   "outputs": [],
   "source": [
    "def caseFolding(cleanComment):\n",
    "    try:\n",
    "        cleanComment = cleanComment.lower()\n",
    "    except:\n",
    "        cleanComment = ''\n",
    "        print(\"Err: Failed to case folding\")\n",
    "    return cleanComment"
   ]
  },
  {
   "cell_type": "code",
   "execution_count": 44,
   "metadata": {},
   "outputs": [
    {
     "data": {
      "text/html": [
       "<div>\n",
       "<style scoped>\n",
       "    .dataframe tbody tr th:only-of-type {\n",
       "        vertical-align: middle;\n",
       "    }\n",
       "\n",
       "    .dataframe tbody tr th {\n",
       "        vertical-align: top;\n",
       "    }\n",
       "\n",
       "    .dataframe thead th {\n",
       "        text-align: right;\n",
       "    }\n",
       "</style>\n",
       "<table border=\"1\" class=\"dataframe\">\n",
       "  <thead>\n",
       "    <tr style=\"text-align: right;\">\n",
       "      <th></th>\n",
       "      <th>cleanComment</th>\n",
       "      <th>resultCaseFolding</th>\n",
       "    </tr>\n",
       "  </thead>\n",
       "  <tbody>\n",
       "    <tr>\n",
       "      <th>0</th>\n",
       "      <td>Buat kawankawan yang masih agak bingung atau a...</td>\n",
       "      <td>buat kawankawan yang masih agak bingung atau a...</td>\n",
       "    </tr>\n",
       "    <tr>\n",
       "      <th>1</th>\n",
       "      <td>terimakasih penjelasannya sangat membantu</td>\n",
       "      <td>terimakasih penjelasannya sangat membantu</td>\n",
       "    </tr>\n",
       "    <tr>\n",
       "      <th>2</th>\n",
       "      <td>Jelas</td>\n",
       "      <td>jelas</td>\n",
       "    </tr>\n",
       "    <tr>\n",
       "      <th>3</th>\n",
       "      <td>TOLONG DI PIN</td>\n",
       "      <td>tolong di pin</td>\n",
       "    </tr>\n",
       "    <tr>\n",
       "      <th>4</th>\n",
       "      <td>Ralat bang poin ke chat gpt itu fine tuning su...</td>\n",
       "      <td>ralat bang poin ke chat gpt itu fine tuning su...</td>\n",
       "    </tr>\n",
       "  </tbody>\n",
       "</table>\n",
       "</div>"
      ],
      "text/plain": [
       "                                        cleanComment  \\\n",
       "0  Buat kawankawan yang masih agak bingung atau a...   \n",
       "1          terimakasih penjelasannya sangat membantu   \n",
       "2                                              Jelas   \n",
       "3                                      TOLONG DI PIN   \n",
       "4  Ralat bang poin ke chat gpt itu fine tuning su...   \n",
       "\n",
       "                                   resultCaseFolding  \n",
       "0  buat kawankawan yang masih agak bingung atau a...  \n",
       "1          terimakasih penjelasannya sangat membantu  \n",
       "2                                              jelas  \n",
       "3                                      tolong di pin  \n",
       "4  ralat bang poin ke chat gpt itu fine tuning su...  "
      ]
     },
     "execution_count": 44,
     "metadata": {},
     "output_type": "execute_result"
    }
   ],
   "source": [
    "df['resultCaseFolding'] = df['cleanComment'].apply(caseFolding)\n",
    "df[['cleanComment', 'resultCaseFolding']].head()"
   ]
  },
  {
   "cell_type": "markdown",
   "metadata": {},
   "source": [
    "### Tokenizing"
   ]
  },
  {
   "cell_type": "code",
   "execution_count": 20,
   "metadata": {},
   "outputs": [],
   "source": [
    "def tokenize(comments):\n",
    "    try:\n",
    "        words = comments.split(' ')\n",
    "    except:\n",
    "        print(\"Err: Failed to tokenizing\")\n",
    "        words = []\n",
    "  \n",
    "    indexToRemove = []\n",
    "    index = -1\n",
    "    for word in words:\n",
    "        index += 1\n",
    "        if word == '':\n",
    "            indexToRemove.append(index)\n",
    "  \n",
    "    prevIndex = 0\n",
    "    currentIndex = 0\n",
    "    for removeIndex in indexToRemove:\n",
    "        currentIndex = removeIndex - prevIndex\n",
    "        del words[prevIndex]\n",
    "        prevIndex += 1\n",
    "  \n",
    "    return words"
   ]
  },
  {
   "cell_type": "code",
   "execution_count": 45,
   "metadata": {},
   "outputs": [
    {
     "data": {
      "text/html": [
       "<div>\n",
       "<style scoped>\n",
       "    .dataframe tbody tr th:only-of-type {\n",
       "        vertical-align: middle;\n",
       "    }\n",
       "\n",
       "    .dataframe tbody tr th {\n",
       "        vertical-align: top;\n",
       "    }\n",
       "\n",
       "    .dataframe thead th {\n",
       "        text-align: right;\n",
       "    }\n",
       "</style>\n",
       "<table border=\"1\" class=\"dataframe\">\n",
       "  <thead>\n",
       "    <tr style=\"text-align: right;\">\n",
       "      <th></th>\n",
       "      <th>resultCaseFolding</th>\n",
       "      <th>resultTokenize</th>\n",
       "    </tr>\n",
       "  </thead>\n",
       "  <tbody>\n",
       "    <tr>\n",
       "      <th>0</th>\n",
       "      <td>buat kawankawan yang masih agak bingung atau a...</td>\n",
       "      <td>[buat, kawankawan, yang, masih, agak, bingung,...</td>\n",
       "    </tr>\n",
       "    <tr>\n",
       "      <th>1</th>\n",
       "      <td>terimakasih penjelasannya sangat membantu</td>\n",
       "      <td>[terimakasih, penjelasannya, sangat, membantu]</td>\n",
       "    </tr>\n",
       "    <tr>\n",
       "      <th>2</th>\n",
       "      <td>jelas</td>\n",
       "      <td>[jelas]</td>\n",
       "    </tr>\n",
       "    <tr>\n",
       "      <th>3</th>\n",
       "      <td>tolong di pin</td>\n",
       "      <td>[tolong, di, pin]</td>\n",
       "    </tr>\n",
       "    <tr>\n",
       "      <th>4</th>\n",
       "      <td>ralat bang poin ke chat gpt itu fine tuning su...</td>\n",
       "      <td>[ralat, bang, poin, ke, chat, gpt, itu, fine, ...</td>\n",
       "    </tr>\n",
       "  </tbody>\n",
       "</table>\n",
       "</div>"
      ],
      "text/plain": [
       "                                   resultCaseFolding  \\\n",
       "0  buat kawankawan yang masih agak bingung atau a...   \n",
       "1          terimakasih penjelasannya sangat membantu   \n",
       "2                                              jelas   \n",
       "3                                      tolong di pin   \n",
       "4  ralat bang poin ke chat gpt itu fine tuning su...   \n",
       "\n",
       "                                      resultTokenize  \n",
       "0  [buat, kawankawan, yang, masih, agak, bingung,...  \n",
       "1     [terimakasih, penjelasannya, sangat, membantu]  \n",
       "2                                            [jelas]  \n",
       "3                                  [tolong, di, pin]  \n",
       "4  [ralat, bang, poin, ke, chat, gpt, itu, fine, ...  "
      ]
     },
     "execution_count": 45,
     "metadata": {},
     "output_type": "execute_result"
    }
   ],
   "source": [
    "df['resultTokenize'] = df['resultCaseFolding'].apply(tokenize)\n",
    "df[['resultCaseFolding', 'resultTokenize']].head()"
   ]
  },
  {
   "cell_type": "code",
   "execution_count": 25,
   "metadata": {},
   "outputs": [
    {
     "name": "stderr",
     "output_type": "stream",
     "text": [
      "[nltk_data] Downloading package stopwords to C:\\Users\\Dell\n",
      "[nltk_data]     7300\\AppData\\Roaming\\nltk_data...\n",
      "[nltk_data]   Package stopwords is already up-to-date!\n"
     ]
    },
    {
     "data": {
      "text/plain": [
       "True"
      ]
     },
     "execution_count": 25,
     "metadata": {},
     "output_type": "execute_result"
    }
   ],
   "source": [
    "# !pip install nltk\n",
    "\n",
    "import nltk\n",
    "from nltk.corpus import stopwords\n",
    "nltk.download('stopwords')"
   ]
  },
  {
   "cell_type": "code",
   "execution_count": 36,
   "metadata": {},
   "outputs": [],
   "source": [
    "def stopwordRemoval(comments, language):\n",
    "    language_mapping = {\n",
    "        'en': 'english', \n",
    "        'ind': 'indonesian'\n",
    "    }\n",
    "\n",
    "    nltk_language = language_mapping.get(language, 'english') \n",
    "\n",
    "    stopWordRemoved = []\n",
    "    try:\n",
    "        stopList = stopwords.words(nltk_language)\n",
    "        filename = f'stopwords-{language}.txt'\n",
    "        if os.path.exists(filename) and os.path.getsize(filename) > 0:\n",
    "            with open(filename, 'r') as f:\n",
    "                stopList.extend(f.read().split('\\n')) \n",
    "        for word in comments:\n",
    "            if word not in stopList:\n",
    "                stopWordRemoved.append(word)\n",
    "    except:\n",
    "        print(\"Err: Failed to remove stopwords\")\n",
    "        \n",
    "    return stopWordRemoved"
   ]
  },
  {
   "cell_type": "code",
   "execution_count": 50,
   "metadata": {},
   "outputs": [
    {
     "data": {
      "text/html": [
       "<div>\n",
       "<style scoped>\n",
       "    .dataframe tbody tr th:only-of-type {\n",
       "        vertical-align: middle;\n",
       "    }\n",
       "\n",
       "    .dataframe tbody tr th {\n",
       "        vertical-align: top;\n",
       "    }\n",
       "\n",
       "    .dataframe thead th {\n",
       "        text-align: right;\n",
       "    }\n",
       "</style>\n",
       "<table border=\"1\" class=\"dataframe\">\n",
       "  <thead>\n",
       "    <tr style=\"text-align: right;\">\n",
       "      <th></th>\n",
       "      <th>resultTokenize</th>\n",
       "      <th>resultStopword</th>\n",
       "    </tr>\n",
       "  </thead>\n",
       "  <tbody>\n",
       "    <tr>\n",
       "      <th>0</th>\n",
       "      <td>[buat, kawankawan, yang, masih, agak, bingung,...</td>\n",
       "      <td>[kawankawan, bingung, asingdengan, istilah, di...</td>\n",
       "    </tr>\n",
       "    <tr>\n",
       "      <th>1</th>\n",
       "      <td>[terimakasih, penjelasannya, sangat, membantu]</td>\n",
       "      <td>[terimakasih, penjelasannya, membantu]</td>\n",
       "    </tr>\n",
       "    <tr>\n",
       "      <th>2</th>\n",
       "      <td>[jelas]</td>\n",
       "      <td>[]</td>\n",
       "    </tr>\n",
       "    <tr>\n",
       "      <th>3</th>\n",
       "      <td>[tolong, di, pin]</td>\n",
       "      <td>[tolong, pin]</td>\n",
       "    </tr>\n",
       "    <tr>\n",
       "      <th>4</th>\n",
       "      <td>[ralat, bang, poin, ke, chat, gpt, itu, fine, ...</td>\n",
       "      <td>[ralat, bang, poin, chat, gpt, fine, tuning, s...</td>\n",
       "    </tr>\n",
       "  </tbody>\n",
       "</table>\n",
       "</div>"
      ],
      "text/plain": [
       "                                      resultTokenize  \\\n",
       "0  [buat, kawankawan, yang, masih, agak, bingung,...   \n",
       "1     [terimakasih, penjelasannya, sangat, membantu]   \n",
       "2                                            [jelas]   \n",
       "3                                  [tolong, di, pin]   \n",
       "4  [ralat, bang, poin, ke, chat, gpt, itu, fine, ...   \n",
       "\n",
       "                                      resultStopword  \n",
       "0  [kawankawan, bingung, asingdengan, istilah, di...  \n",
       "1             [terimakasih, penjelasannya, membantu]  \n",
       "2                                                 []  \n",
       "3                                      [tolong, pin]  \n",
       "4  [ralat, bang, poin, chat, gpt, fine, tuning, s...  "
      ]
     },
     "execution_count": 50,
     "metadata": {},
     "output_type": "execute_result"
    }
   ],
   "source": [
    "df['resultStopword'] = df['resultTokenize'].apply(lambda x: stopwordRemoval(x, LANGUAGE))\n",
    "df[['resultTokenize', 'resultStopword']].head()"
   ]
  },
  {
   "cell_type": "markdown",
   "metadata": {},
   "source": [
    "### Hapus data kosong ([])"
   ]
  },
  {
   "cell_type": "code",
   "execution_count": 52,
   "metadata": {},
   "outputs": [
    {
     "data": {
      "text/plain": [
       "0       [kawankawan, bingung, asingdengan, istilah, di...\n",
       "1                  [terimakasih, penjelasannya, membantu]\n",
       "3                                           [tolong, pin]\n",
       "4       [ralat, bang, poin, chat, gpt, fine, tuning, s...\n",
       "5                      [thanks, additional, infonya, mas]\n",
       "                              ...                        \n",
       "1243                                  [ngga, paham, blas]\n",
       "1244                        [dr, indra, bsa, ngoding, ga]\n",
       "1245                                                  [t]\n",
       "1247                                             [pohara]\n",
       "1248                                            [dahsyat]\n",
       "Name: resultStopword, Length: 1241, dtype: object"
      ]
     },
     "execution_count": 52,
     "metadata": {},
     "output_type": "execute_result"
    }
   ],
   "source": [
    "df = df[df['resultStopword'].apply(lambda x: len(x) > 0)]\n",
    "df['resultStopword']"
   ]
  },
  {
   "cell_type": "markdown",
   "metadata": {},
   "source": [
    "### Stemming"
   ]
  },
  {
   "cell_type": "code",
   "execution_count": 33,
   "metadata": {},
   "outputs": [],
   "source": [
    "# !pip install Sastrawi\n",
    "\n",
    "from nltk.stem import PorterStemmer\n",
    "from Sastrawi.Stemmer.StemmerFactory import StemmerFactory"
   ]
  },
  {
   "cell_type": "code",
   "execution_count": 34,
   "metadata": {},
   "outputs": [],
   "source": [
    "def stemmed_wrapper(term, language):\n",
    "    if language == 'ind':\n",
    "        factory = StemmerFactory()\n",
    "        stemmer = factory.create_stemmer()\n",
    "        return stemmer.stem(term)\n",
    "    else: \n",
    "        stemmer = PorterStemmer()\n",
    "        return stemmer.stem(term)\n",
    "\n",
    "def stemming(document, language):\n",
    "    return [stemmed_wrapper(term, language) for term in document]\n"
   ]
  },
  {
   "cell_type": "code",
   "execution_count": 53,
   "metadata": {},
   "outputs": [
    {
     "data": {
      "text/html": [
       "<div>\n",
       "<style scoped>\n",
       "    .dataframe tbody tr th:only-of-type {\n",
       "        vertical-align: middle;\n",
       "    }\n",
       "\n",
       "    .dataframe tbody tr th {\n",
       "        vertical-align: top;\n",
       "    }\n",
       "\n",
       "    .dataframe thead th {\n",
       "        text-align: right;\n",
       "    }\n",
       "</style>\n",
       "<table border=\"1\" class=\"dataframe\">\n",
       "  <thead>\n",
       "    <tr style=\"text-align: right;\">\n",
       "      <th></th>\n",
       "      <th>resultStopword</th>\n",
       "      <th>resultStemming</th>\n",
       "    </tr>\n",
       "  </thead>\n",
       "  <tbody>\n",
       "    <tr>\n",
       "      <th>0</th>\n",
       "      <td>[kawankawan, bingung, asingdengan, istilah, di...</td>\n",
       "      <td>[kawankawan, bingung, asingdengan, istilah, pa...</td>\n",
       "    </tr>\n",
       "    <tr>\n",
       "      <th>1</th>\n",
       "      <td>[terimakasih, penjelasannya, membantu]</td>\n",
       "      <td>[terimakasih, jelas, bantu]</td>\n",
       "    </tr>\n",
       "    <tr>\n",
       "      <th>3</th>\n",
       "      <td>[tolong, pin]</td>\n",
       "      <td>[tolong, pin]</td>\n",
       "    </tr>\n",
       "    <tr>\n",
       "      <th>4</th>\n",
       "      <td>[ralat, bang, poin, chat, gpt, fine, tuning, s...</td>\n",
       "      <td>[ralat, bang, poin, chat, gpt, fine, tuning, s...</td>\n",
       "    </tr>\n",
       "    <tr>\n",
       "      <th>5</th>\n",
       "      <td>[thanks, additional, infonya, mas]</td>\n",
       "      <td>[thanks, additional, info, mas]</td>\n",
       "    </tr>\n",
       "  </tbody>\n",
       "</table>\n",
       "</div>"
      ],
      "text/plain": [
       "                                      resultStopword  \\\n",
       "0  [kawankawan, bingung, asingdengan, istilah, di...   \n",
       "1             [terimakasih, penjelasannya, membantu]   \n",
       "3                                      [tolong, pin]   \n",
       "4  [ralat, bang, poin, chat, gpt, fine, tuning, s...   \n",
       "5                 [thanks, additional, infonya, mas]   \n",
       "\n",
       "                                      resultStemming  \n",
       "0  [kawankawan, bingung, asingdengan, istilah, pa...  \n",
       "1                        [terimakasih, jelas, bantu]  \n",
       "3                                      [tolong, pin]  \n",
       "4  [ralat, bang, poin, chat, gpt, fine, tuning, s...  \n",
       "5                    [thanks, additional, info, mas]  "
      ]
     },
     "execution_count": 53,
     "metadata": {},
     "output_type": "execute_result"
    }
   ],
   "source": [
    "df['resultStemming'] = df['resultStopword'].apply(lambda x: stemming(x, LANGUAGE))\n",
    "df[['resultStopword', 'resultStemming']].head()"
   ]
  },
  {
   "cell_type": "markdown",
   "metadata": {},
   "source": [
    "### Export clean data"
   ]
  },
  {
   "cell_type": "code",
   "execution_count": 54,
   "metadata": {},
   "outputs": [],
   "source": [
    "df.to_csv(\n",
    "    './output/data-clean-ind.csv', \n",
    "    columns=[\n",
    "        'Comment', \n",
    "        'cleanComment',\n",
    "        'resultCaseFolding',\n",
    "        'resultTokenize',\n",
    "        'resultStopword',\n",
    "        'resultStemming',\n",
    "    ],\n",
    "    index=False\n",
    ")"
   ]
  }
 ],
 "metadata": {
  "kernelspec": {
   "display_name": "base",
   "language": "python",
   "name": "python3"
  },
  "language_info": {
   "codemirror_mode": {
    "name": "ipython",
    "version": 3
   },
   "file_extension": ".py",
   "mimetype": "text/x-python",
   "name": "python",
   "nbconvert_exporter": "python",
   "pygments_lexer": "ipython3",
   "version": "3.10.9"
  }
 },
 "nbformat": 4,
 "nbformat_minor": 2
}
